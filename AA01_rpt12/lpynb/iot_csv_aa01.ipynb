{
  "nbformat": 4,
  "nbformat_minor": 0,
  "metadata": {
    "colab": {
      "name": "iot_csv.ipynb의 사본",
      "provenance": [],
      "collapsed_sections": [],
      "toc_visible": true
    },
    "kernelspec": {
      "name": "python3",
      "display_name": "Python 3"
    }
  },
  "cells": [
    {
      "cell_type": "markdown",
      "metadata": {
        "id": "0Mjp7Izv1DkK",
        "colab_type": "text"
      },
      "source": [
        "### iot data\n",
        "> Sensor data from Arduino with CdS and DHT22\n",
        "\n",
        "- temperature\n",
        "- humidity\n",
        "- luminosity"
      ]
    },
    {
      "cell_type": "code",
      "metadata": {
        "id": "JocMoJ3q1DkL",
        "colab_type": "code",
        "colab": {}
      },
      "source": [
        "# Access a data file in csv format from the remote express server with CORS.\n",
        "iot=pd.read_csv('aa01_all.csv', index_col='date')"
      ],
      "execution_count": 0,
      "outputs": []
    },
    {
      "cell_type": "code",
      "metadata": {
        "id": "d-M3o1hI1DkQ",
        "colab_type": "code",
        "colab": {
          "base_uri": "https://localhost:8080/",
          "height": 35
        },
        "outputId": "01f2e492-5f3b-4a9f-9561-0f4d8ba0a7eb"
      },
      "source": [
        "iot.shape"
      ],
      "execution_count": 132,
      "outputs": [
        {
          "output_type": "execute_result",
          "data": {
            "text/plain": [
              "(3186, 3)"
            ]
          },
          "metadata": {
            "tags": []
          },
          "execution_count": 132
        }
      ]
    },
    {
      "cell_type": "code",
      "metadata": {
        "id": "b5TKa9bX1DkV",
        "colab_type": "code",
        "colab": {
          "base_uri": "https://localhost:8080/",
          "height": 235
        },
        "outputId": "33bb7bb4-f5e2-4383-8495-bf354b7acbeb"
      },
      "source": [
        "iot.head()"
      ],
      "execution_count": 133,
      "outputs": [
        {
          "output_type": "execute_result",
          "data": {
            "text/html": [
              "<div>\n",
              "<style scoped>\n",
              "    .dataframe tbody tr th:only-of-type {\n",
              "        vertical-align: middle;\n",
              "    }\n",
              "\n",
              "    .dataframe tbody tr th {\n",
              "        vertical-align: top;\n",
              "    }\n",
              "\n",
              "    .dataframe thead th {\n",
              "        text-align: right;\n",
              "    }\n",
              "</style>\n",
              "<table border=\"1\" class=\"dataframe\">\n",
              "  <thead>\n",
              "    <tr style=\"text-align: right;\">\n",
              "      <th></th>\n",
              "      <th>temperature</th>\n",
              "      <th>humidity</th>\n",
              "      <th>luminosity</th>\n",
              "    </tr>\n",
              "    <tr>\n",
              "      <th>date</th>\n",
              "      <th></th>\n",
              "      <th></th>\n",
              "      <th></th>\n",
              "    </tr>\n",
              "  </thead>\n",
              "  <tbody>\n",
              "    <tr>\n",
              "      <th>2019-12-04 14:35:48.744</th>\n",
              "      <td>22.5</td>\n",
              "      <td>31.1</td>\n",
              "      <td>277</td>\n",
              "    </tr>\n",
              "    <tr>\n",
              "      <th>2019-12-04 14:35:51.021</th>\n",
              "      <td>22.5</td>\n",
              "      <td>30.8</td>\n",
              "      <td>282</td>\n",
              "    </tr>\n",
              "    <tr>\n",
              "      <th>2019-12-04 14:35:53.294</th>\n",
              "      <td>22.5</td>\n",
              "      <td>30.6</td>\n",
              "      <td>284</td>\n",
              "    </tr>\n",
              "    <tr>\n",
              "      <th>2019-12-04 14:35:55.572</th>\n",
              "      <td>22.5</td>\n",
              "      <td>30.3</td>\n",
              "      <td>242</td>\n",
              "    </tr>\n",
              "    <tr>\n",
              "      <th>2019-12-04 14:35:57.845</th>\n",
              "      <td>22.5</td>\n",
              "      <td>30.1</td>\n",
              "      <td>267</td>\n",
              "    </tr>\n",
              "  </tbody>\n",
              "</table>\n",
              "</div>"
            ],
            "text/plain": [
              "                         temperature  humidity  luminosity\n",
              "date                                                      \n",
              "2019-12-04 14:35:48.744         22.5      31.1         277\n",
              "2019-12-04 14:35:51.021         22.5      30.8         282\n",
              "2019-12-04 14:35:53.294         22.5      30.6         284\n",
              "2019-12-04 14:35:55.572         22.5      30.3         242\n",
              "2019-12-04 14:35:57.845         22.5      30.1         267"
            ]
          },
          "metadata": {
            "tags": []
          },
          "execution_count": 133
        }
      ]
    },
    {
      "cell_type": "code",
      "metadata": {
        "id": "CjyUNVTQ1Dkb",
        "colab_type": "code",
        "colab": {
          "base_uri": "https://localhost:8080/",
          "height": 235
        },
        "outputId": "087be9fc-0aee-44a3-cf73-1984ab4e91f5"
      },
      "source": [
        "iot.tail()"
      ],
      "execution_count": 134,
      "outputs": [
        {
          "output_type": "execute_result",
          "data": {
            "text/html": [
              "<div>\n",
              "<style scoped>\n",
              "    .dataframe tbody tr th:only-of-type {\n",
              "        vertical-align: middle;\n",
              "    }\n",
              "\n",
              "    .dataframe tbody tr th {\n",
              "        vertical-align: top;\n",
              "    }\n",
              "\n",
              "    .dataframe thead th {\n",
              "        text-align: right;\n",
              "    }\n",
              "</style>\n",
              "<table border=\"1\" class=\"dataframe\">\n",
              "  <thead>\n",
              "    <tr style=\"text-align: right;\">\n",
              "      <th></th>\n",
              "      <th>temperature</th>\n",
              "      <th>humidity</th>\n",
              "      <th>luminosity</th>\n",
              "    </tr>\n",
              "    <tr>\n",
              "      <th>date</th>\n",
              "      <th></th>\n",
              "      <th></th>\n",
              "      <th></th>\n",
              "    </tr>\n",
              "  </thead>\n",
              "  <tbody>\n",
              "    <tr>\n",
              "      <th>2019-12-04 16:36:28.344</th>\n",
              "      <td>22.0</td>\n",
              "      <td>23.9</td>\n",
              "      <td>101</td>\n",
              "    </tr>\n",
              "    <tr>\n",
              "      <th>2019-12-04 16:36:30.618</th>\n",
              "      <td>22.0</td>\n",
              "      <td>23.9</td>\n",
              "      <td>100</td>\n",
              "    </tr>\n",
              "    <tr>\n",
              "      <th>2019-12-04 16:36:32.895</th>\n",
              "      <td>22.0</td>\n",
              "      <td>23.9</td>\n",
              "      <td>101</td>\n",
              "    </tr>\n",
              "    <tr>\n",
              "      <th>2019-12-04 16:36:35.173</th>\n",
              "      <td>22.0</td>\n",
              "      <td>23.9</td>\n",
              "      <td>100</td>\n",
              "    </tr>\n",
              "    <tr>\n",
              "      <th>2019-12-04 16:36:37.446</th>\n",
              "      <td>22.0</td>\n",
              "      <td>23.9</td>\n",
              "      <td>100</td>\n",
              "    </tr>\n",
              "  </tbody>\n",
              "</table>\n",
              "</div>"
            ],
            "text/plain": [
              "                         temperature  humidity  luminosity\n",
              "date                                                      \n",
              "2019-12-04 16:36:28.344         22.0      23.9         101\n",
              "2019-12-04 16:36:30.618         22.0      23.9         100\n",
              "2019-12-04 16:36:32.895         22.0      23.9         101\n",
              "2019-12-04 16:36:35.173         22.0      23.9         100\n",
              "2019-12-04 16:36:37.446         22.0      23.9         100"
            ]
          },
          "metadata": {
            "tags": []
          },
          "execution_count": 134
        }
      ]
    },
    {
      "cell_type": "code",
      "metadata": {
        "id": "o66Mb3tp1Dki",
        "colab_type": "code",
        "colab": {
          "base_uri": "https://localhost:8080/",
          "height": 161
        },
        "outputId": "28d1400d-be82-4008-fe4f-c45491f9d0b4"
      },
      "source": [
        "iot.info()"
      ],
      "execution_count": 135,
      "outputs": [
        {
          "output_type": "stream",
          "text": [
            "<class 'pandas.core.frame.DataFrame'>\n",
            "Index: 3186 entries, 2019-12-04 14:35:48.744 to 2019-12-04 16:36:37.446\n",
            "Data columns (total 3 columns):\n",
            "temperature    3186 non-null float64\n",
            "humidity       3186 non-null float64\n",
            "luminosity     3186 non-null int64\n",
            "dtypes: float64(2), int64(1)\n",
            "memory usage: 99.6+ KB\n"
          ],
          "name": "stdout"
        }
      ]
    },
    {
      "cell_type": "code",
      "metadata": {
        "id": "BUukMID1XAkF",
        "colab_type": "code",
        "colab": {
          "base_uri": "https://localhost:8080/",
          "height": 297
        },
        "outputId": "6e71ddae-dbab-4b55-d006-705c4d470314"
      },
      "source": [
        "iot.describe()"
      ],
      "execution_count": 136,
      "outputs": [
        {
          "output_type": "execute_result",
          "data": {
            "text/html": [
              "<div>\n",
              "<style scoped>\n",
              "    .dataframe tbody tr th:only-of-type {\n",
              "        vertical-align: middle;\n",
              "    }\n",
              "\n",
              "    .dataframe tbody tr th {\n",
              "        vertical-align: top;\n",
              "    }\n",
              "\n",
              "    .dataframe thead th {\n",
              "        text-align: right;\n",
              "    }\n",
              "</style>\n",
              "<table border=\"1\" class=\"dataframe\">\n",
              "  <thead>\n",
              "    <tr style=\"text-align: right;\">\n",
              "      <th></th>\n",
              "      <th>temperature</th>\n",
              "      <th>humidity</th>\n",
              "      <th>luminosity</th>\n",
              "    </tr>\n",
              "  </thead>\n",
              "  <tbody>\n",
              "    <tr>\n",
              "      <th>count</th>\n",
              "      <td>3186.000000</td>\n",
              "      <td>3186.000000</td>\n",
              "      <td>3186.000000</td>\n",
              "    </tr>\n",
              "    <tr>\n",
              "      <th>mean</th>\n",
              "      <td>22.519209</td>\n",
              "      <td>26.769397</td>\n",
              "      <td>146.945386</td>\n",
              "    </tr>\n",
              "    <tr>\n",
              "      <th>std</th>\n",
              "      <td>0.261600</td>\n",
              "      <td>1.871004</td>\n",
              "      <td>74.377079</td>\n",
              "    </tr>\n",
              "    <tr>\n",
              "      <th>min</th>\n",
              "      <td>22.000000</td>\n",
              "      <td>23.400000</td>\n",
              "      <td>79.000000</td>\n",
              "    </tr>\n",
              "    <tr>\n",
              "      <th>25%</th>\n",
              "      <td>22.300000</td>\n",
              "      <td>24.825000</td>\n",
              "      <td>107.000000</td>\n",
              "    </tr>\n",
              "    <tr>\n",
              "      <th>50%</th>\n",
              "      <td>22.600000</td>\n",
              "      <td>27.200000</td>\n",
              "      <td>113.000000</td>\n",
              "    </tr>\n",
              "    <tr>\n",
              "      <th>75%</th>\n",
              "      <td>22.700000</td>\n",
              "      <td>28.400000</td>\n",
              "      <td>119.000000</td>\n",
              "    </tr>\n",
              "    <tr>\n",
              "      <th>max</th>\n",
              "      <td>23.000000</td>\n",
              "      <td>31.100000</td>\n",
              "      <td>328.000000</td>\n",
              "    </tr>\n",
              "  </tbody>\n",
              "</table>\n",
              "</div>"
            ],
            "text/plain": [
              "       temperature     humidity   luminosity\n",
              "count  3186.000000  3186.000000  3186.000000\n",
              "mean     22.519209    26.769397   146.945386\n",
              "std       0.261600     1.871004    74.377079\n",
              "min      22.000000    23.400000    79.000000\n",
              "25%      22.300000    24.825000   107.000000\n",
              "50%      22.600000    27.200000   113.000000\n",
              "75%      22.700000    28.400000   119.000000\n",
              "max      23.000000    31.100000   328.000000"
            ]
          },
          "metadata": {
            "tags": []
          },
          "execution_count": 136
        }
      ]
    },
    {
      "cell_type": "markdown",
      "metadata": {
        "colab_type": "text",
        "id": "2_5dCKo64BKs"
      },
      "source": [
        "#### Sort index by date"
      ]
    },
    {
      "cell_type": "code",
      "metadata": {
        "colab_type": "code",
        "id": "vD5Tv6Q04BKp",
        "colab": {}
      },
      "source": [
        "iot_s = iot.sort_index()"
      ],
      "execution_count": 0,
      "outputs": []
    },
    {
      "cell_type": "code",
      "metadata": {
        "colab_type": "code",
        "id": "PBovY97d4BKk",
        "colab": {
          "base_uri": "https://localhost:8080/",
          "height": 235
        },
        "outputId": "ae1ce14a-f1c0-4683-afdb-f6e085821694"
      },
      "source": [
        "iot_s.head()"
      ],
      "execution_count": 138,
      "outputs": [
        {
          "output_type": "execute_result",
          "data": {
            "text/html": [
              "<div>\n",
              "<style scoped>\n",
              "    .dataframe tbody tr th:only-of-type {\n",
              "        vertical-align: middle;\n",
              "    }\n",
              "\n",
              "    .dataframe tbody tr th {\n",
              "        vertical-align: top;\n",
              "    }\n",
              "\n",
              "    .dataframe thead th {\n",
              "        text-align: right;\n",
              "    }\n",
              "</style>\n",
              "<table border=\"1\" class=\"dataframe\">\n",
              "  <thead>\n",
              "    <tr style=\"text-align: right;\">\n",
              "      <th></th>\n",
              "      <th>temperature</th>\n",
              "      <th>humidity</th>\n",
              "      <th>luminosity</th>\n",
              "    </tr>\n",
              "    <tr>\n",
              "      <th>date</th>\n",
              "      <th></th>\n",
              "      <th></th>\n",
              "      <th></th>\n",
              "    </tr>\n",
              "  </thead>\n",
              "  <tbody>\n",
              "    <tr>\n",
              "      <th>2019-12-04 14:35:48.744</th>\n",
              "      <td>22.5</td>\n",
              "      <td>31.1</td>\n",
              "      <td>277</td>\n",
              "    </tr>\n",
              "    <tr>\n",
              "      <th>2019-12-04 14:35:51.021</th>\n",
              "      <td>22.5</td>\n",
              "      <td>30.8</td>\n",
              "      <td>282</td>\n",
              "    </tr>\n",
              "    <tr>\n",
              "      <th>2019-12-04 14:35:53.294</th>\n",
              "      <td>22.5</td>\n",
              "      <td>30.6</td>\n",
              "      <td>284</td>\n",
              "    </tr>\n",
              "    <tr>\n",
              "      <th>2019-12-04 14:35:55.572</th>\n",
              "      <td>22.5</td>\n",
              "      <td>30.3</td>\n",
              "      <td>242</td>\n",
              "    </tr>\n",
              "    <tr>\n",
              "      <th>2019-12-04 14:35:57.845</th>\n",
              "      <td>22.5</td>\n",
              "      <td>30.1</td>\n",
              "      <td>267</td>\n",
              "    </tr>\n",
              "  </tbody>\n",
              "</table>\n",
              "</div>"
            ],
            "text/plain": [
              "                         temperature  humidity  luminosity\n",
              "date                                                      \n",
              "2019-12-04 14:35:48.744         22.5      31.1         277\n",
              "2019-12-04 14:35:51.021         22.5      30.8         282\n",
              "2019-12-04 14:35:53.294         22.5      30.6         284\n",
              "2019-12-04 14:35:55.572         22.5      30.3         242\n",
              "2019-12-04 14:35:57.845         22.5      30.1         267"
            ]
          },
          "metadata": {
            "tags": []
          },
          "execution_count": 138
        }
      ]
    },
    {
      "cell_type": "code",
      "metadata": {
        "colab_type": "code",
        "id": "5GDQptja4BKg",
        "colab": {
          "base_uri": "https://localhost:8080/",
          "height": 406
        },
        "outputId": "69e90221-28d5-4ba3-fa42-37e004e1fb2e"
      },
      "source": [
        "iot_s.plot(figsize=(12,6)) #, rot=90)"
      ],
      "execution_count": 139,
      "outputs": [
        {
          "output_type": "execute_result",
          "data": {
            "text/plain": [
              "<matplotlib.axes._subplots.AxesSubplot at 0x7f3490291b38>"
            ]
          },
          "metadata": {
            "tags": []
          },
          "execution_count": 139
        },
        {
          "output_type": "display_data",
          "data": {
            "image/png": "[encoded data removed]",
            "text/plain": [
              "<Figure size 864x432 with 1 Axes>"
            ]
          },
          "metadata": {
            "tags": []
          }
        }
      ]
    },
    {
      "cell_type": "code",
      "metadata": {
        "colab_type": "code",
        "id": "wR6pD2CH4BKa",
        "colab": {
          "base_uri": "https://localhost:8080/",
          "height": 89
        },
        "outputId": "63d13c45-7810-4b1a-db7f-1832dfcb3158"
      },
      "source": [
        "# 평균\n",
        "iot_s.mean()"
      ],
      "execution_count": 140,
      "outputs": [
        {
          "output_type": "execute_result",
          "data": {
            "text/plain": [
              "temperature     22.519209\n",
              "humidity        26.769397\n",
              "luminosity     146.945386\n",
              "dtype: float64"
            ]
          },
          "metadata": {
            "tags": []
          },
          "execution_count": 140
        }
      ]
    },
    {
      "cell_type": "code",
      "metadata": {
        "colab_type": "code",
        "id": "gCmVp1Tg4BKX",
        "colab": {
          "base_uri": "https://localhost:8080/",
          "height": 89
        },
        "outputId": "c21693ba-5f45-4b55-8732-82f1e9e959a0"
      },
      "source": [
        "# 표준편차\n",
        "iot_s.std()"
      ],
      "execution_count": 141,
      "outputs": [
        {
          "output_type": "execute_result",
          "data": {
            "text/plain": [
              "temperature     0.261600\n",
              "humidity        1.871004\n",
              "luminosity     74.377079\n",
              "dtype: float64"
            ]
          },
          "metadata": {
            "tags": []
          },
          "execution_count": 141
        }
      ]
    },
    {
      "cell_type": "markdown",
      "metadata": {
        "colab_type": "text",
        "id": "Z6b4Mv1e37tl"
      },
      "source": [
        "#### 평균과 표준편차를 이용한 그래프"
      ]
    },
    {
      "cell_type": "code",
      "metadata": {
        "colab_type": "code",
        "id": "hDBja9P137ti",
        "colab": {
          "base_uri": "https://localhost:8080/",
          "height": 406
        },
        "outputId": "fc77b79b-3d39-430c-a7d1-9c144c498bb5"
      },
      "source": [
        "iot_s.mean().plot.bar(figsize=(10,5), title=\"iot data: temp, humi, lumi\")"
      ],
      "execution_count": 142,
      "outputs": [
        {
          "output_type": "execute_result",
          "data": {
            "text/plain": [
              "<matplotlib.axes._subplots.AxesSubplot at 0x7f34900aa940>"
            ]
          },
          "metadata": {
            "tags": []
          },
          "execution_count": 142
        },
        {
          "output_type": "display_data",
          "data": {
            "image/png": "[encoded data removed]",
            "text/plain": [
              "<Figure size 720x360 with 1 Axes>"
            ]
          },
          "metadata": {
            "tags": []
          }
        }
      ]
    },
    {
      "cell_type": "code",
      "metadata": {
        "colab_type": "code",
        "id": "2UUi-Tza37tb",
        "colab": {
          "base_uri": "https://localhost:8080/",
          "height": 406
        },
        "outputId": "b4cff95d-66d7-42c3-b155-07134ba9be9f"
      },
      "source": [
        "iot_s.mean().plot.bar(figsize=(10,5), title=\"iot data: temp, humi, lumi\") #, yerr=iot_s.std(), rot=0)"
      ],
      "execution_count": 143,
      "outputs": [
        {
          "output_type": "execute_result",
          "data": {
            "text/plain": [
              "<matplotlib.axes._subplots.AxesSubplot at 0x7f34900157b8>"
            ]
          },
          "metadata": {
            "tags": []
          },
          "execution_count": 143
        },
        {
          "output_type": "display_data",
          "data": {
            "image/png": "[encoded data removed]",
            "text/plain": [
              "<Figure size 720x360 with 1 Axes>"
            ]
          },
          "metadata": {
            "tags": []
          }
        }
      ]
    },
    {
      "cell_type": "markdown",
      "metadata": {
        "id": "Qn52SiznYhqs",
        "colab_type": "text"
      },
      "source": [
        "### 시간 간격에 따른 센서 데이터의 변화 그래프"
      ]
    },
    {
      "cell_type": "markdown",
      "metadata": {
        "id": "TYGSDEGP1DlE",
        "colab_type": "text"
      },
      "source": [
        "## Plot the change of sensor data over various time spans.\n",
        "\n",
        "- resample the data at different frequency\n",
        "- time span: 60 sec, 1 hour, 1 day, 1 week"
      ]
    },
    {
      "cell_type": "code",
      "metadata": {
        "id": "dPgcIFOP1DlF",
        "colab_type": "code",
        "colab": {
          "base_uri": "https://localhost:8080/",
          "height": 161
        },
        "outputId": "3e0fbd01-b547-41fc-ed89-c9bb7dc484cb"
      },
      "source": [
        "iot_s.info()"
      ],
      "execution_count": 144,
      "outputs": [
        {
          "output_type": "stream",
          "text": [
            "<class 'pandas.core.frame.DataFrame'>\n",
            "Index: 3186 entries, 2019-12-04 14:35:48.744 to 2019-12-04 16:36:37.446\n",
            "Data columns (total 3 columns):\n",
            "temperature    3186 non-null float64\n",
            "humidity       3186 non-null float64\n",
            "luminosity     3186 non-null int64\n",
            "dtypes: float64(2), int64(1)\n",
            "memory usage: 99.6+ KB\n"
          ],
          "name": "stdout"
        }
      ]
    },
    {
      "cell_type": "code",
      "metadata": {
        "id": "zr1RA5Ix1DlJ",
        "colab_type": "code",
        "colab": {
          "base_uri": "https://localhost:8080/",
          "height": 35
        },
        "outputId": "94ac9945-f7be-40e1-c7be-fe502372f58a"
      },
      "source": [
        "# type of index\n",
        "iot_s.index[0], type(iot_s.index[0])"
      ],
      "execution_count": 145,
      "outputs": [
        {
          "output_type": "execute_result",
          "data": {
            "text/plain": [
              "('2019-12-04 14:35:48.744', str)"
            ]
          },
          "metadata": {
            "tags": []
          },
          "execution_count": 145
        }
      ]
    },
    {
      "cell_type": "code",
      "metadata": {
        "id": "2Tsb1Z9x1DlN",
        "colab_type": "code",
        "colab": {}
      },
      "source": [
        "# Convert index to timestamp\n",
        "iot_s.index = pd.to_datetime(iot_s.index)"
      ],
      "execution_count": 0,
      "outputs": []
    },
    {
      "cell_type": "code",
      "metadata": {
        "id": "9mAeysp31DlU",
        "colab_type": "code",
        "colab": {
          "base_uri": "https://localhost:8080/",
          "height": 161
        },
        "outputId": "bd0d44c6-be53-4128-8313-3c3f48f4bd49"
      },
      "source": [
        "iot_s.info()"
      ],
      "execution_count": 147,
      "outputs": [
        {
          "output_type": "stream",
          "text": [
            "<class 'pandas.core.frame.DataFrame'>\n",
            "DatetimeIndex: 3186 entries, 2019-12-04 14:35:48.744000 to 2019-12-04 16:36:37.446000\n",
            "Data columns (total 3 columns):\n",
            "temperature    3186 non-null float64\n",
            "humidity       3186 non-null float64\n",
            "luminosity     3186 non-null int64\n",
            "dtypes: float64(2), int64(1)\n",
            "memory usage: 99.6 KB\n"
          ],
          "name": "stdout"
        }
      ]
    },
    {
      "cell_type": "markdown",
      "metadata": {
        "id": "DgKNx3soY2TS",
        "colab_type": "text"
      },
      "source": [
        "> 인덱스가 문자열에서 Datatime 인덱스로 전환되었다.\n",
        "\n",
        "> 시간 지정 및 계산 효과를 그래프에 반영한다."
      ]
    },
    {
      "cell_type": "code",
      "metadata": {
        "id": "BWJ5exVWZXMS",
        "colab_type": "code",
        "colab": {
          "base_uri": "https://localhost:8080/",
          "height": 483
        },
        "outputId": "ebca91fd-02ca-481d-afc0-3dbc52c00657"
      },
      "source": [
        "# Estimate the mean of iot_s for every 10 minutes\n",
        "iot_s.resample('600S').mean()  # mean per each 10 minutes"
      ],
      "execution_count": 148,
      "outputs": [
        {
          "output_type": "execute_result",
          "data": {
            "text/html": [
              "<div>\n",
              "<style scoped>\n",
              "    .dataframe tbody tr th:only-of-type {\n",
              "        vertical-align: middle;\n",
              "    }\n",
              "\n",
              "    .dataframe tbody tr th {\n",
              "        vertical-align: top;\n",
              "    }\n",
              "\n",
              "    .dataframe thead th {\n",
              "        text-align: right;\n",
              "    }\n",
              "</style>\n",
              "<table border=\"1\" class=\"dataframe\">\n",
              "  <thead>\n",
              "    <tr style=\"text-align: right;\">\n",
              "      <th></th>\n",
              "      <th>temperature</th>\n",
              "      <th>humidity</th>\n",
              "      <th>luminosity</th>\n",
              "    </tr>\n",
              "    <tr>\n",
              "      <th>date</th>\n",
              "      <th></th>\n",
              "      <th></th>\n",
              "      <th></th>\n",
              "    </tr>\n",
              "  </thead>\n",
              "  <tbody>\n",
              "    <tr>\n",
              "      <th>2019-12-04 14:30:00</th>\n",
              "      <td>22.369369</td>\n",
              "      <td>28.031532</td>\n",
              "      <td>289.126126</td>\n",
              "    </tr>\n",
              "    <tr>\n",
              "      <th>2019-12-04 14:40:00</th>\n",
              "      <td>22.503409</td>\n",
              "      <td>27.642045</td>\n",
              "      <td>292.090909</td>\n",
              "    </tr>\n",
              "    <tr>\n",
              "      <th>2019-12-04 14:50:00</th>\n",
              "      <td>22.688973</td>\n",
              "      <td>27.627376</td>\n",
              "      <td>290.068441</td>\n",
              "    </tr>\n",
              "    <tr>\n",
              "      <th>2019-12-04 15:00:00</th>\n",
              "      <td>22.626136</td>\n",
              "      <td>26.374621</td>\n",
              "      <td>116.090909</td>\n",
              "    </tr>\n",
              "    <tr>\n",
              "      <th>2019-12-04 15:10:00</th>\n",
              "      <td>22.544867</td>\n",
              "      <td>27.525856</td>\n",
              "      <td>116.091255</td>\n",
              "    </tr>\n",
              "    <tr>\n",
              "      <th>2019-12-04 15:20:00</th>\n",
              "      <td>22.617045</td>\n",
              "      <td>28.200000</td>\n",
              "      <td>116.579545</td>\n",
              "    </tr>\n",
              "    <tr>\n",
              "      <th>2019-12-04 15:30:00</th>\n",
              "      <td>22.725758</td>\n",
              "      <td>28.687879</td>\n",
              "      <td>114.594697</td>\n",
              "    </tr>\n",
              "    <tr>\n",
              "      <th>2019-12-04 15:40:00</th>\n",
              "      <td>22.816350</td>\n",
              "      <td>29.216350</td>\n",
              "      <td>109.714829</td>\n",
              "    </tr>\n",
              "    <tr>\n",
              "      <th>2019-12-04 15:50:00</th>\n",
              "      <td>22.818939</td>\n",
              "      <td>26.920455</td>\n",
              "      <td>103.231061</td>\n",
              "    </tr>\n",
              "    <tr>\n",
              "      <th>2019-12-04 16:00:00</th>\n",
              "      <td>22.517424</td>\n",
              "      <td>25.320455</td>\n",
              "      <td>114.564394</td>\n",
              "    </tr>\n",
              "    <tr>\n",
              "      <th>2019-12-04 16:10:00</th>\n",
              "      <td>22.163878</td>\n",
              "      <td>24.272624</td>\n",
              "      <td>109.942966</td>\n",
              "    </tr>\n",
              "    <tr>\n",
              "      <th>2019-12-04 16:20:00</th>\n",
              "      <td>22.077652</td>\n",
              "      <td>24.108333</td>\n",
              "      <td>104.518939</td>\n",
              "    </tr>\n",
              "    <tr>\n",
              "      <th>2019-12-04 16:30:00</th>\n",
              "      <td>22.028000</td>\n",
              "      <td>23.816571</td>\n",
              "      <td>100.594286</td>\n",
              "    </tr>\n",
              "  </tbody>\n",
              "</table>\n",
              "</div>"
            ],
            "text/plain": [
              "                     temperature   humidity  luminosity\n",
              "date                                                   \n",
              "2019-12-04 14:30:00    22.369369  28.031532  289.126126\n",
              "2019-12-04 14:40:00    22.503409  27.642045  292.090909\n",
              "2019-12-04 14:50:00    22.688973  27.627376  290.068441\n",
              "2019-12-04 15:00:00    22.626136  26.374621  116.090909\n",
              "2019-12-04 15:10:00    22.544867  27.525856  116.091255\n",
              "2019-12-04 15:20:00    22.617045  28.200000  116.579545\n",
              "2019-12-04 15:30:00    22.725758  28.687879  114.594697\n",
              "2019-12-04 15:40:00    22.816350  29.216350  109.714829\n",
              "2019-12-04 15:50:00    22.818939  26.920455  103.231061\n",
              "2019-12-04 16:00:00    22.517424  25.320455  114.564394\n",
              "2019-12-04 16:10:00    22.163878  24.272624  109.942966\n",
              "2019-12-04 16:20:00    22.077652  24.108333  104.518939\n",
              "2019-12-04 16:30:00    22.028000  23.816571  100.594286"
            ]
          },
          "metadata": {
            "tags": []
          },
          "execution_count": 148
        }
      ]
    },
    {
      "cell_type": "code",
      "metadata": {
        "id": "eCl8F_FPZrdq",
        "colab_type": "code",
        "colab": {
          "base_uri": "https://localhost:8080/",
          "height": 422
        },
        "outputId": "7ae9c019-bc6a-401a-d70e-6352e9490221"
      },
      "source": [
        "#  Plot mean of the iot data per every 10 minutes \n",
        "iot_s.resample('600S').mean().plot(figsize=(12,6), title='10 minutes change of temp, humi, and lumi', \n",
        "                                ylim=[0,90])"
      ],
      "execution_count": 149,
      "outputs": [
        {
          "output_type": "execute_result",
          "data": {
            "text/plain": [
              "<matplotlib.axes._subplots.AxesSubplot at 0x7f348ffebe10>"
            ]
          },
          "metadata": {
            "tags": []
          },
          "execution_count": 149
        },
        {
          "output_type": "display_data",
          "data": {
            "image/png": "[encoded data removed]",
            "text/plain": [
              "<Figure size 864x432 with 1 Axes>"
            ]
          },
          "metadata": {
            "tags": []
          }
        }
      ]
    },
    {
      "cell_type": "code",
      "metadata": {
        "id": "p0dZyoMy1DlY",
        "colab_type": "code",
        "colab": {
          "base_uri": "https://localhost:8080/",
          "height": 173
        },
        "outputId": "d1f840cd-7db8-43a7-cea1-aef1fa5830c8"
      },
      "source": [
        "# Estimate the mean of iot_s for every hour\n",
        "iot_s.resample('H').mean()  # mean per each hour"
      ],
      "execution_count": 150,
      "outputs": [
        {
          "output_type": "execute_result",
          "data": {
            "text/html": [
              "<div>\n",
              "<style scoped>\n",
              "    .dataframe tbody tr th:only-of-type {\n",
              "        vertical-align: middle;\n",
              "    }\n",
              "\n",
              "    .dataframe tbody tr th {\n",
              "        vertical-align: top;\n",
              "    }\n",
              "\n",
              "    .dataframe thead th {\n",
              "        text-align: right;\n",
              "    }\n",
              "</style>\n",
              "<table border=\"1\" class=\"dataframe\">\n",
              "  <thead>\n",
              "    <tr style=\"text-align: right;\">\n",
              "      <th></th>\n",
              "      <th>temperature</th>\n",
              "      <th>humidity</th>\n",
              "      <th>luminosity</th>\n",
              "    </tr>\n",
              "    <tr>\n",
              "      <th>date</th>\n",
              "      <th></th>\n",
              "      <th></th>\n",
              "      <th></th>\n",
              "    </tr>\n",
              "  </thead>\n",
              "  <tbody>\n",
              "    <tr>\n",
              "      <th>2019-12-04 14:00:00</th>\n",
              "      <td>22.556583</td>\n",
              "      <td>27.703762</td>\n",
              "      <td>290.741379</td>\n",
              "    </tr>\n",
              "    <tr>\n",
              "      <th>2019-12-04 15:00:00</th>\n",
              "      <td>22.691530</td>\n",
              "      <td>27.820164</td>\n",
              "      <td>112.716814</td>\n",
              "    </tr>\n",
              "    <tr>\n",
              "      <th>2019-12-04 16:00:00</th>\n",
              "      <td>22.212319</td>\n",
              "      <td>24.431470</td>\n",
              "      <td>108.030021</td>\n",
              "    </tr>\n",
              "  </tbody>\n",
              "</table>\n",
              "</div>"
            ],
            "text/plain": [
              "                     temperature   humidity  luminosity\n",
              "date                                                   \n",
              "2019-12-04 14:00:00    22.556583  27.703762  290.741379\n",
              "2019-12-04 15:00:00    22.691530  27.820164  112.716814\n",
              "2019-12-04 16:00:00    22.212319  24.431470  108.030021"
            ]
          },
          "metadata": {
            "tags": []
          },
          "execution_count": 150
        }
      ]
    },
    {
      "cell_type": "code",
      "metadata": {
        "id": "i3BiiT-L1Dle",
        "colab_type": "code",
        "colab": {
          "base_uri": "https://localhost:8080/",
          "height": 412
        },
        "outputId": "b140e500-3164-4703-d115-9a158a1304b8"
      },
      "source": [
        "#  Plot mean of the iot data per every hour \n",
        "iot_s.resample('H').mean().plot(figsize=(12,6), title='Hourly change of temp, humi, and lumi', \n",
        "                                ylim=[0,90])"
      ],
      "execution_count": 151,
      "outputs": [
        {
          "output_type": "execute_result",
          "data": {
            "text/plain": [
              "<matplotlib.axes._subplots.AxesSubplot at 0x7f348ff61780>"
            ]
          },
          "metadata": {
            "tags": []
          },
          "execution_count": 151
        },
        {
          "output_type": "display_data",
          "data": {
            "image/png": "[encoded data removed]",
            "text/plain": [
              "<Figure size 864x432 with 1 Axes>"
            ]
          },
          "metadata": {
            "tags": []
          }
        }
      ]
    },
    {
      "cell_type": "code",
      "metadata": {
        "id": "Mpaa7zcOZ6YL",
        "colab_type": "code",
        "colab": {
          "base_uri": "https://localhost:8080/",
          "height": 111
        },
        "outputId": "f8c02fdd-7f61-4795-8637-a69566b571e2"
      },
      "source": [
        "# Estimate the mean of iot_s for every day\n",
        "iot_s.resample('D').mean()  # mean per each day"
      ],
      "execution_count": 152,
      "outputs": [
        {
          "output_type": "execute_result",
          "data": {
            "text/html": [
              "<div>\n",
              "<style scoped>\n",
              "    .dataframe tbody tr th:only-of-type {\n",
              "        vertical-align: middle;\n",
              "    }\n",
              "\n",
              "    .dataframe tbody tr th {\n",
              "        vertical-align: top;\n",
              "    }\n",
              "\n",
              "    .dataframe thead th {\n",
              "        text-align: right;\n",
              "    }\n",
              "</style>\n",
              "<table border=\"1\" class=\"dataframe\">\n",
              "  <thead>\n",
              "    <tr style=\"text-align: right;\">\n",
              "      <th></th>\n",
              "      <th>temperature</th>\n",
              "      <th>humidity</th>\n",
              "      <th>luminosity</th>\n",
              "    </tr>\n",
              "    <tr>\n",
              "      <th>date</th>\n",
              "      <th></th>\n",
              "      <th></th>\n",
              "      <th></th>\n",
              "    </tr>\n",
              "  </thead>\n",
              "  <tbody>\n",
              "    <tr>\n",
              "      <th>2019-12-04</th>\n",
              "      <td>22.519209</td>\n",
              "      <td>26.769397</td>\n",
              "      <td>146.945386</td>\n",
              "    </tr>\n",
              "  </tbody>\n",
              "</table>\n",
              "</div>"
            ],
            "text/plain": [
              "            temperature   humidity  luminosity\n",
              "date                                          \n",
              "2019-12-04    22.519209  26.769397  146.945386"
            ]
          },
          "metadata": {
            "tags": []
          },
          "execution_count": 152
        }
      ]
    },
    {
      "cell_type": "code",
      "metadata": {
        "id": "1Na-aiX31Dli",
        "colab_type": "code",
        "colab": {
          "base_uri": "https://localhost:8080/",
          "height": 478
        },
        "outputId": "54a95cd8-5c5e-4efe-b263-6d9a15f09af0"
      },
      "source": [
        "#  Plot mean of the iot data per every day\n",
        "iot_s.resample('D').mean().plot(kind='line', marker='o', ms=10, figsize=(12,6), title='Daily change of temperature, humidity, and luminosity')"
      ],
      "execution_count": 153,
      "outputs": [
        {
          "output_type": "stream",
          "text": [
            "/usr/local/lib/python3.6/dist-packages/pandas/plotting/_matplotlib/core.py:1085: UserWarning: Attempting to set identical left == right == 18234.0 results in singular transformations; automatically expanding.\n",
            "  ax.set_xlim(left, right)\n"
          ],
          "name": "stderr"
        },
        {
          "output_type": "execute_result",
          "data": {
            "text/plain": [
              "<matplotlib.axes._subplots.AxesSubplot at 0x7f348fee1dd8>"
            ]
          },
          "metadata": {
            "tags": []
          },
          "execution_count": 153
        },
        {
          "output_type": "display_data",
          "data": {
            "image/png": "[encoded data removed]",
            "text/plain": [
              "<Figure size 864x432 with 1 Axes>"
            ]
          },
          "metadata": {
            "tags": []
          }
        }
      ]
    },
    {
      "cell_type": "code",
      "metadata": {
        "id": "YmAHT_XoaOls",
        "colab_type": "code",
        "colab": {
          "base_uri": "https://localhost:8080/",
          "height": 517
        },
        "outputId": "e5147c88-48be-4bfa-e909-d3517d9b0997"
      },
      "source": [
        "#  Plot bar graph using mean of the iot data per every day\n",
        "iot_s.resample('D').mean().plot(kind='bar', figsize=(12, 6), title='Daily change of temperature, humidity, and luminosity')"
      ],
      "execution_count": 154,
      "outputs": [
        {
          "output_type": "execute_result",
          "data": {
            "text/plain": [
              "<matplotlib.axes._subplots.AxesSubplot at 0x7f348ff6bcc0>"
            ]
          },
          "metadata": {
            "tags": []
          },
          "execution_count": 154
        },
        {
          "output_type": "display_data",
          "data": {
            "image/png": "[encoded data removed]",
            "text/plain": [
              "<Figure size 864x432 with 1 Axes>"
            ]
          },
          "metadata": {
            "tags": []
          }
        }
      ]
    },
    {
      "cell_type": "markdown",
      "metadata": {
        "id": "63f12cUlajWa",
        "colab_type": "text"
      },
      "source": [
        "#### DIY\n",
        "1. 주별 평균값을 계산하시오.\n",
        "2. 주별 평균값을 시각화 하시오.\n",
        "\n"
      ]
    },
    {
      "cell_type": "markdown",
      "metadata": {
        "id": "zNs608SE3PxR",
        "colab_type": "text"
      },
      "source": [
        "\n",
        "\n",
        "---\n",
        "\n"
      ]
    },
    {
      "cell_type": "code",
      "metadata": {
        "id": "bSJOj1mh1Dl0",
        "colab_type": "code",
        "colab": {
          "base_uri": "https://localhost:8080/",
          "height": 111
        },
        "outputId": "6ac3f72e-ef2e-45d6-e5f4-3a284b52cd6b"
      },
      "source": [
        "iot_s.resample('W').mean()"
      ],
      "execution_count": 155,
      "outputs": [
        {
          "output_type": "execute_result",
          "data": {
            "text/html": [
              "<div>\n",
              "<style scoped>\n",
              "    .dataframe tbody tr th:only-of-type {\n",
              "        vertical-align: middle;\n",
              "    }\n",
              "\n",
              "    .dataframe tbody tr th {\n",
              "        vertical-align: top;\n",
              "    }\n",
              "\n",
              "    .dataframe thead th {\n",
              "        text-align: right;\n",
              "    }\n",
              "</style>\n",
              "<table border=\"1\" class=\"dataframe\">\n",
              "  <thead>\n",
              "    <tr style=\"text-align: right;\">\n",
              "      <th></th>\n",
              "      <th>temperature</th>\n",
              "      <th>humidity</th>\n",
              "      <th>luminosity</th>\n",
              "    </tr>\n",
              "    <tr>\n",
              "      <th>date</th>\n",
              "      <th></th>\n",
              "      <th></th>\n",
              "      <th></th>\n",
              "    </tr>\n",
              "  </thead>\n",
              "  <tbody>\n",
              "    <tr>\n",
              "      <th>2019-12-08</th>\n",
              "      <td>22.519209</td>\n",
              "      <td>26.769397</td>\n",
              "      <td>146.945386</td>\n",
              "    </tr>\n",
              "  </tbody>\n",
              "</table>\n",
              "</div>"
            ],
            "text/plain": [
              "            temperature   humidity  luminosity\n",
              "date                                          \n",
              "2019-12-08    22.519209  26.769397  146.945386"
            ]
          },
          "metadata": {
            "tags": []
          },
          "execution_count": 155
        }
      ]
    },
    {
      "cell_type": "code",
      "metadata": {
        "id": "7F8k8-5lq7CB",
        "colab_type": "code",
        "colab": {
          "base_uri": "https://localhost:8080/",
          "height": 517
        },
        "outputId": "d459811b-4c08-4188-ea58-181e2262bf1f"
      },
      "source": [
        "iot_s.resample('W').mean().plot(kind='bar', figsize=(12, 6), title='Daily change of temperature, humidity, and luminosity')"
      ],
      "execution_count": 156,
      "outputs": [
        {
          "output_type": "execute_result",
          "data": {
            "text/plain": [
              "<matplotlib.axes._subplots.AxesSubplot at 0x7f348fddd2e8>"
            ]
          },
          "metadata": {
            "tags": []
          },
          "execution_count": 156
        },
        {
          "output_type": "display_data",
          "data": {
            "image/png": "[encoded data removed]",
            "text/plain": [
              "<Figure size 864x432 with 1 Axes>"
            ]
          },
          "metadata": {
            "tags": []
          }
        }
      ]
    },
    {
      "cell_type": "code",
      "metadata": {
        "id": "btuaUcIhq5BB",
        "colab_type": "code",
        "colab": {}
      },
      "source": [
        ""
      ],
      "execution_count": 0,
      "outputs": []
    }
  ]
}